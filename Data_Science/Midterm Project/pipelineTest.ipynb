{
 "cells": [
  {
   "cell_type": "code",
   "execution_count": 1,
   "metadata": {
    "collapsed": true
   },
   "outputs": [],
   "source": [
    "import sklearn\n",
    "from sklearn.feature_extraction.text import CountVectorizer\n",
    "from sklearn.feature_extraction.text import TfidfTransformer\n",
    "from sklearn.naive_bayes import MultinomialNB\n",
    "from sklearn.pipeline import Pipeline"
   ]
  },
  {
   "cell_type": "code",
   "execution_count": 2,
   "metadata": {},
   "outputs": [
    {
     "data": {
      "text/plain": [
       "Pipeline(steps=[('vect', CountVectorizer(analyzer='word', binary=False, decode_error='strict',\n",
       "        dtype=<class 'numpy.int64'>, encoding='utf-8', input='content',\n",
       "        lowercase=True, max_df=1.0, max_features=None, min_df=1,\n",
       "        ngram_range=(1, 1), preprocessor=None, stop_words=None,\n",
       "        strip...inear_tf=False, use_idf=True)), ('clf', MultinomialNB(alpha=1.0, class_prior=None, fit_prior=True))])"
      ]
     },
     "execution_count": 2,
     "metadata": {},
     "output_type": "execute_result"
    }
   ],
   "source": [
    "x = ['what is the time?','what time do you have?','can you order me a pizza?', 'I am hungry','Hello, how are you?','Hi']\n",
    "y = ['TIME','TIME','PIZZA','PIZZA','GREET','GREET']\n",
    "\n",
    "pipe = Pipeline([('vect', CountVectorizer()),#Essentially encodes each word in the document by its frequency\n",
    "                               ('tfidf', TfidfTransformer()),#larger documents may have higher freqs. This acts as a normalizer\n",
    "                               ('clf', MultinomialNB()),])\n",
    "pipe.fit(x,y)"
   ]
  },
  {
   "cell_type": "code",
   "execution_count": 3,
   "metadata": {},
   "outputs": [
    {
     "data": {
      "text/plain": [
       "array(['TIME'], \n",
       "      dtype='<U5')"
      ]
     },
     "execution_count": 3,
     "metadata": {},
     "output_type": "execute_result"
    }
   ],
   "source": [
    "pipe.predict(['What\\'s up?'])"
   ]
  },
  {
   "cell_type": "code",
   "execution_count": 4,
   "metadata": {},
   "outputs": [
    {
     "data": {
      "text/plain": [
       "array(['PIZZA'], \n",
       "      dtype='<U5')"
      ]
     },
     "execution_count": 4,
     "metadata": {},
     "output_type": "execute_result"
    }
   ],
   "source": [
    "pipe.predict(['where can I buy food'])"
   ]
  },
  {
   "cell_type": "code",
   "execution_count": 5,
   "metadata": {},
   "outputs": [
    {
     "data": {
      "text/plain": [
       "array(['GREET'], \n",
       "      dtype='<U5')"
      ]
     },
     "execution_count": 5,
     "metadata": {},
     "output_type": "execute_result"
    }
   ],
   "source": [
    "pipe.predict(['How\\'s it going'])"
   ]
  },
  {
   "cell_type": "code",
   "execution_count": 6,
   "metadata": {},
   "outputs": [
    {
     "data": {
      "text/plain": [
       "array(['PIZZA'], \n",
       "      dtype='<U5')"
      ]
     },
     "execution_count": 6,
     "metadata": {},
     "output_type": "execute_result"
    }
   ],
   "source": [
    "pipe.predict(['order something for me'])"
   ]
  },
  {
   "cell_type": "code",
   "execution_count": 7,
   "metadata": {},
   "outputs": [
    {
     "data": {
      "text/plain": [
       "array(['PIZZA'], \n",
       "      dtype='<U5')"
      ]
     },
     "execution_count": 7,
     "metadata": {},
     "output_type": "execute_result"
    }
   ],
   "source": [
    "pipe.predict(['order a pizza'])"
   ]
  },
  {
   "cell_type": "code",
   "execution_count": 8,
   "metadata": {},
   "outputs": [
    {
     "data": {
      "text/plain": [
       "<map at 0x1a5e91a6f98>"
      ]
     },
     "execution_count": 8,
     "metadata": {},
     "output_type": "execute_result"
    }
   ],
   "source": [
    "map(str,pipe.predict(['order a pizza']))"
   ]
  },
  {
   "cell_type": "code",
   "execution_count": 9,
   "metadata": {
    "collapsed": true
   },
   "outputs": [],
   "source": [
    "v = map(type('U35'),pipe.predict(['order a pizza'])) "
   ]
  },
  {
   "cell_type": "code",
   "execution_count": 10,
   "metadata": {},
   "outputs": [
    {
     "name": "stdout",
     "output_type": "stream",
     "text": [
      "<map object at 0x000001A5E91B30B8>\n"
     ]
    }
   ],
   "source": [
    "print(v)"
   ]
  },
  {
   "cell_type": "code",
   "execution_count": 11,
   "metadata": {},
   "outputs": [
    {
     "name": "stdout",
     "output_type": "stream",
     "text": [
      "['PIZZA']\n"
     ]
    }
   ],
   "source": [
    "print(list(v))"
   ]
  },
  {
   "cell_type": "code",
   "execution_count": 12,
   "metadata": {
    "collapsed": true
   },
   "outputs": [],
   "source": [
    "import sqlite3"
   ]
  },
  {
   "cell_type": "code",
   "execution_count": 16,
   "metadata": {},
   "outputs": [],
   "source": [
    "if __name__ == '__main__':\n",
    "    \n",
    "    db_file = \"jarvis.db\"\n",
    "    conn = sqlite3.connect(db_file)\n",
    "\n",
    "    c = conn.cursor()\n",
    "\n",
    "    x_train = []\n",
    "    y_train = []\n",
    "\n",
    "    for row in c.execute(\"SELECT * from training_data\"):#make sure new data is being entered correctly to the table\n",
    "            #print(row)\n",
    "            x_train.append(''.join(list(map(type('U35'),row[1]))))\n",
    "            y_train.append(''.join(list(map(type('U35'),row[2]))))"
   ]
  },
  {
   "cell_type": "code",
   "execution_count": 18,
   "metadata": {},
   "outputs": [
    {
     "data": {
      "text/plain": [
       "['what time is it?',\n",
       " 'what time do you have?',\n",
       " 'what does the clock say?',\n",
       " 'what hour is it?',\n",
       " 'what time it be?',\n",
       " 'what time ya got?',\n",
       " 'time?',\n",
       " 'what time?',\n",
       " 'order me a pizza',\n",
       " 'get pizza',\n",
       " 'pizza',\n",
       " 'I want pizza',\n",
       " 'I am hungry',\n",
       " 'need food',\n",
       " 'I would really like something to eat',\n",
       " 'I would like some dinner',\n",
       " 'I want lunch',\n",
       " 'breakfast now!',\n",
       " 'Hello, Jarvis',\n",
       " 'How are you?',\n",
       " \"What's up?\",\n",
       " 'It is a fine day. How are you getting on?',\n",
       " \"Nice to meet you, I'm    what is your name?\",\n",
       " 'who are you?',\n",
       " 'Hi',\n",
       " 'what is your purpose?',\n",
       " 'Good to see you!',\n",
       " \"what's the temperature?\",\n",
       " 'what is the weather like?',\n",
       " 'weather',\n",
       " 'weather?',\n",
       " \"what's it look like outside?\",\n",
       " 'will it be cold today?',\n",
       " 'is it raining?',\n",
       " 'any precipitation this morning?',\n",
       " 'is it cloudy?',\n",
       " 'tell me a joke please',\n",
       " 'cheer me up',\n",
       " 'say something funny',\n",
       " 'talk dirty to me',\n",
       " 'make me laugh',\n",
       " 'be hilarious',\n",
       " 'humor me',\n",
       " \"let's see your wit\",\n",
       " \"I'm sad\"]"
      ]
     },
     "execution_count": 18,
     "metadata": {},
     "output_type": "execute_result"
    }
   ],
   "source": [
    "x_train"
   ]
  },
  {
   "cell_type": "code",
   "execution_count": 19,
   "metadata": {},
   "outputs": [
    {
     "data": {
      "text/plain": [
       "array(['TIME', 'TIME', 'TIME', 'TIME', 'TIME', 'TIME', 'TIME', 'TIME',\n",
       "       'PIZZA', 'PIZZA', 'PIZZA', 'PIZZA', 'PIZZA', 'GREET', 'GREET',\n",
       "       'GREET', 'GREET', 'GREET', 'GREET', 'GREET', 'TIME', 'GREET',\n",
       "       'TIME', 'GREET', 'GREET', 'TIME', 'GREET', 'TIME', 'TIME', 'GREET',\n",
       "       'GREET', 'TIME', 'GREET', 'TIME', 'GREET', 'TIME', 'PIZZA', 'PIZZA',\n",
       "       'GREET', 'PIZZA', 'PIZZA', 'GREET', 'PIZZA', 'GREET', 'GREET'], \n",
       "      dtype='<U5')"
      ]
     },
     "execution_count": 19,
     "metadata": {},
     "output_type": "execute_result"
    }
   ],
   "source": [
    "pipe.predict(x_train)"
   ]
  },
  {
   "cell_type": "code",
   "execution_count": 20,
   "metadata": {},
   "outputs": [
    {
     "data": {
      "text/plain": [
       "array(['GREET'], \n",
       "      dtype='<U5')"
      ]
     },
     "execution_count": 20,
     "metadata": {},
     "output_type": "execute_result"
    }
   ],
   "source": [
    "pipe.predict(['let\\'s see your wit'])"
   ]
  },
  {
   "cell_type": "code",
   "execution_count": 21,
   "metadata": {},
   "outputs": [
    {
     "data": {
      "text/plain": [
       "array(['GREET'], \n",
       "      dtype='<U5')"
      ]
     },
     "execution_count": 21,
     "metadata": {},
     "output_type": "execute_result"
    }
   ],
   "source": [
    "pipe.predict(['tell a joke'])"
   ]
  },
  {
   "cell_type": "code",
   "execution_count": 22,
   "metadata": {},
   "outputs": [
    {
     "data": {
      "text/plain": [
       "['TIME',\n",
       " 'TIME',\n",
       " 'TIME',\n",
       " 'TIME',\n",
       " 'TIME',\n",
       " 'TIME',\n",
       " 'TIME',\n",
       " 'TIME',\n",
       " 'PIZZA',\n",
       " 'PIZZA',\n",
       " 'PIZZA',\n",
       " 'PIZZA',\n",
       " 'PIZZA',\n",
       " 'PIZZA',\n",
       " 'PIZZA',\n",
       " 'PIZZA',\n",
       " 'PIZZA',\n",
       " 'PIZZA',\n",
       " 'GREET',\n",
       " 'GREET',\n",
       " 'GREET',\n",
       " 'GREET',\n",
       " 'GREET',\n",
       " 'GREET',\n",
       " 'GREET',\n",
       " 'GREET',\n",
       " 'GREET',\n",
       " 'WEATHER',\n",
       " 'WEATHER',\n",
       " 'WEATHER',\n",
       " 'WEATHER',\n",
       " 'WEATHER',\n",
       " 'WEATHER',\n",
       " 'WEATHER',\n",
       " 'WEATHER',\n",
       " 'WEATHER',\n",
       " 'JOKE',\n",
       " 'JOKE',\n",
       " 'JOKE',\n",
       " 'JOKE',\n",
       " 'JOKE',\n",
       " 'JOKE',\n",
       " 'JOKE',\n",
       " 'JOKE',\n",
       " 'JOKE']"
      ]
     },
     "execution_count": 22,
     "metadata": {},
     "output_type": "execute_result"
    }
   ],
   "source": [
    "y_train"
   ]
  },
  {
   "cell_type": "code",
   "execution_count": 24,
   "metadata": {},
   "outputs": [
    {
     "data": {
      "text/plain": [
       "array(['GREET'], \n",
       "      dtype='<U5')"
      ]
     },
     "execution_count": 24,
     "metadata": {},
     "output_type": "execute_result"
    }
   ],
   "source": [
    "pipe.predict(['weather'])"
   ]
  },
  {
   "cell_type": "code",
   "execution_count": null,
   "metadata": {
    "collapsed": true
   },
   "outputs": [],
   "source": []
  }
 ],
 "metadata": {
  "kernelspec": {
   "display_name": "Python 3",
   "language": "python",
   "name": "python3"
  },
  "language_info": {
   "codemirror_mode": {
    "name": "ipython",
    "version": 3
   },
   "file_extension": ".py",
   "mimetype": "text/x-python",
   "name": "python",
   "nbconvert_exporter": "python",
   "pygments_lexer": "ipython3",
   "version": "3.6.1"
  }
 },
 "nbformat": 4,
 "nbformat_minor": 2
}
